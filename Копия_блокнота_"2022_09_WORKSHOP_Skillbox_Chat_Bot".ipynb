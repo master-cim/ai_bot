{
  "nbformat": 4,
  "nbformat_minor": 0,
  "metadata": {
    "colab": {
      "provenance": [],
      "collapsed_sections": [
        "ppsIrKbyJDTJ",
        "mW1tlQcAJRmA",
        "hSSID1qhTRst",
        "yghoYMy4C5b0",
        "hQmd5e9_J12n"
      ],
      "include_colab_link": true
    },
    "kernelspec": {
      "name": "python3",
      "display_name": "Python 3"
    },
    "language_info": {
      "name": "python"
    }
  },
  "cells": [
    {
      "cell_type": "markdown",
      "metadata": {
        "id": "view-in-github",
        "colab_type": "text"
      },
      "source": [
        "<a href=\"https://colab.research.google.com/github/master-cim/ai_bot/blob/main/%D0%9A%D0%BE%D0%BF%D0%B8%D1%8F_%D0%B1%D0%BB%D0%BE%D0%BA%D0%BD%D0%BE%D1%82%D0%B0_%222022_09_WORKSHOP_Skillbox_Chat_Bot%22.ipynb\" target=\"_parent\"><img src=\"https://colab.research.google.com/assets/colab-badge.svg\" alt=\"Open In Colab\"/></a>"
      ]
    },
    {
      "cell_type": "markdown",
      "source": [
        "# Чем мы будем заниматься на интенсиве?"
      ],
      "metadata": {
        "id": "6dLgQDxbHpSU"
      }
    },
    {
      "cell_type": "markdown",
      "source": [
        "**День 1:** Знакомимся с Python и архитектурой умного чат-бота\n",
        "\n",
        "https://live.skillbox.ru/webinars/code/znakomimsya-s-python-i-arkhitekturoi-umnogo-chat-bota190922/\n",
        "*   Что такое NLU и как компьютер понимает естественную речь.\n",
        "*   Архитектура «умных» чат-ботов.\n",
        "*   Начало работы с Python.\n",
        "*   Типы и структуры данных Python. Циклы и функции.\n",
        "\n",
        "**День 2:** Учим бота на Python понимать текст \n",
        "\n",
        "https://live.skillbox.ru/webinars/code/uchim-bota-na-python-ponimat-tekst200922/\n",
        "*   Подготовка дата-сета.\n",
        "*   Алгоритмы сравнения текстов.\n",
        "*   Векторизация.\n",
        "*   Обучение машинной модели.\n",
        "*   Измерение качества классификатора и интеграция в чат-бота.\n",
        "\n",
        "**День 3:** Искусственный интеллект на Python: подводим итоги\n",
        "\n",
        "https://live.skillbox.ru/webinars/code/iskusstvennyi-intellekt-na-python-podvodim-itogi210922/\n",
        "*   Создание Telegram-бота через @BotFather.\n",
        "*   Запуск и подключение Python-приложения.\n",
        "\n",
        "\n",
        "\n",
        "<img src='https://drive.google.com/uc?export=view&id=1jh8IXsRZMwODB7Yk_ZH7pR1laJaQlaly' height=300>"
      ],
      "metadata": {
        "id": "JzOJzJn7IUbh"
      }
    },
    {
      "cell_type": "markdown",
      "source": [
        "# День 1"
      ],
      "metadata": {
        "id": "ppsIrKbyJDTJ"
      }
    },
    {
      "cell_type": "markdown",
      "source": [
        "## ВЕРСИЯ 1: Простейший Чат-бот\n",
        "`{Вопрос на входе}` => `{Алгоритм ответа}` => `{Ответ на выходе}`\n",
        "\n",
        "---\n",
        "Простейший алгоритм — это поиск по базе известных вопросов и ответов.\n"
      ],
      "metadata": {
        "id": "mW1tlQcAJRmA"
      }
    },
    {
      "cell_type": "code",
      "source": [
        "import random"
      ],
      "metadata": {
        "id": "jHwSOC-8InIo"
      },
      "execution_count": null,
      "outputs": []
    },
    {
      "cell_type": "code",
      "execution_count": null,
      "metadata": {
        "id": "ePQvZ6EHH75B"
      },
      "outputs": [],
      "source": [
        "intents = {\n",
        "    'hello': {\n",
        "        'examples': ['Хелло', \"Привет\", \"Здравствуйте\"],\n",
        "        'responses': ['Добрый день!', \"Как дела?\", \"Как настроение?\"]\n",
        "    },\n",
        "    'weather': {\n",
        "        'examples': ['Какая погода?', 'Что за окном', \"Во что одеваться?\"],\n",
        "        'responses': ['Погода отличная!', \"У природы нет плохой погоды!\"],\n",
        "    }\n",
        "}\n",
        "\n",
        "# input = ввод данных от пользователя\n",
        "# random.choice = выбор случайного элемента из списка\n",
        "# print = вывод на экран"
      ]
    },
    {
      "cell_type": "markdown",
      "source": [
        "Визуализация кода: https://pythontutor.com/visualize"
      ],
      "metadata": {
        "id": "mTcHqBziJYXl"
      }
    },
    {
      "cell_type": "code",
      "source": [
        "text = input(\"Ваша реплика: \")\n",
        "\n",
        "for intent_name in intents:\n",
        "    for example in intents[intent_name]['examples']:\n",
        "        if text == example:\n",
        "            answer = random.choice(intents[intent_name]['responses'])\n",
        "            print(answer)"
      ],
      "metadata": {
        "colab": {
          "base_uri": "https://localhost:8080/"
        },
        "id": "cTVvFaXGCI6X",
        "outputId": "4265e239-f12d-4d27-b698-d9bd8b199eeb"
      },
      "execution_count": null,
      "outputs": [
        {
          "name": "stdout",
          "output_type": "stream",
          "text": [
            "Ваша реплика: привет\n"
          ]
        }
      ]
    },
    {
      "cell_type": "code",
      "source": [
        "text = input(\"Ваша реплика: \")"
      ],
      "metadata": {
        "colab": {
          "base_uri": "https://localhost:8080/"
        },
        "id": "818wQGYQBW9r",
        "outputId": "5816364d-f78e-4cb0-a5e1-afd45aee300d"
      },
      "execution_count": null,
      "outputs": [
        {
          "name": "stdout",
          "output_type": "stream",
          "text": [
            "Ваша реплика: Здравствуйте\n"
          ]
        }
      ]
    },
    {
      "cell_type": "code",
      "source": [
        "print(text)"
      ],
      "metadata": {
        "colab": {
          "base_uri": "https://localhost:8080/"
        },
        "id": "4at8_wR2BmXa",
        "outputId": "dc4a6033-e85b-42bf-832c-95a4c6cd91ab"
      },
      "execution_count": null,
      "outputs": [
        {
          "output_type": "stream",
          "name": "stdout",
          "text": [
            "Здравствуйте\n"
          ]
        }
      ]
    },
    {
      "cell_type": "code",
      "source": [
        "text = input(\"Ваша реплика: \")\n",
        "\n",
        "if text == 'Какая погода?':\n",
        "    print('weather')"
      ],
      "metadata": {
        "colab": {
          "base_uri": "https://localhost:8080/"
        },
        "id": "VWrtjxckBw2i",
        "outputId": "c0bb9934-e2d6-4843-d90f-51e597a07c46"
      },
      "execution_count": null,
      "outputs": [
        {
          "output_type": "stream",
          "name": "stdout",
          "text": [
            "Ваша реплика: Какая погода?\n",
            "weather\n"
          ]
        }
      ]
    },
    {
      "cell_type": "code",
      "source": [
        "# Documents/images/files/ДР/...\n",
        "intents['hello']['examples']"
      ],
      "metadata": {
        "colab": {
          "base_uri": "https://localhost:8080/"
        },
        "id": "MCUmpy9dCYQZ",
        "outputId": "1b1248a1-d212-4e19-f48e-74df7869f44a"
      },
      "execution_count": null,
      "outputs": [
        {
          "output_type": "execute_result",
          "data": {
            "text/plain": [
              "['Хелло', 'Привет', 'Здравствуйте']"
            ]
          },
          "metadata": {},
          "execution_count": 4
        }
      ]
    },
    {
      "cell_type": "markdown",
      "source": [
        "### Алгоритм ответа\n",
        "1.   Если вопрос это что-то вроде \"*Привет*\" или \"*Хеллоу*\"\n",
        "2.   То ответить случайной фразой вроде \"**Йоу**\", \"**Приветики**\" или \"**Здрасте**\""
      ],
      "metadata": {
        "id": "tysEo2EaLV9V"
      }
    },
    {
      "cell_type": "markdown",
      "source": [
        "Сложность — в том чтобы сравнить **Текст Пользователя** и текст в программе."
      ],
      "metadata": {
        "id": "26m8fK1GN4m3"
      }
    },
    {
      "cell_type": "code",
      "source": [
        "import re\n",
        "import nltk"
      ],
      "metadata": {
        "id": "vFavUYibL-yx"
      },
      "execution_count": null,
      "outputs": []
    },
    {
      "cell_type": "code",
      "source": [
        "def clean_up(text):\n",
        "    # преобразуем слово к нижнему регистру\n",
        "    text = text.lower()\n",
        "    # описываем текстовый шаблон для удаления: \"все, что не является буквой \\w или пробелом \\s\"\n",
        "    re_not_word = r'[^\\w\\s]'\n",
        "    # заменяем в исходном тексте то, что соответствует шаблону, на пустой текст (удаляем)\n",
        "    text = re.sub(re_not_word, '', text)\n",
        "    # возвращаем очищенный текст\n",
        "    return text\n",
        "\n",
        "def text_match(user_text, example):\n",
        "    # допишем функцию так, чтобы все примеры ниже работали\n",
        "    user_text = clean_up(user_text)\n",
        "    example = clean_up(example)\n",
        "    # A.find(B) - возвращает номер буквы, с которой идет текст B внутри текста А\n",
        "    # find возвращает -1 в случае, если ничего не нашла\n",
        "    if user_text.find(example) != -1:\n",
        "        return True\n",
        "    if example.find(user_text) != -1:\n",
        "        return True\n",
        "\n",
        "    example_len = len(example)\n",
        "    distance = nltk.edit_distance(user_text, example) / example_len\n",
        "\n",
        "    return distance < 0.4"
      ],
      "metadata": {
        "id": "v68CYBmmMwwu"
      },
      "execution_count": null,
      "outputs": []
    },
    {
      "cell_type": "code",
      "source": [
        "clean_up('ПрИВеТ')"
      ],
      "metadata": {
        "colab": {
          "base_uri": "https://localhost:8080/",
          "height": 35
        },
        "id": "Rhe68ftqLkqC",
        "outputId": "e8becb97-6cea-472b-ef61-a19928cf3055"
      },
      "execution_count": null,
      "outputs": [
        {
          "output_type": "execute_result",
          "data": {
            "text/plain": [
              "'привет'"
            ],
            "application/vnd.google.colaboratory.intrinsic+json": {
              "type": "string"
            }
          },
          "metadata": {},
          "execution_count": 7
        }
      ]
    },
    {
      "cell_type": "code",
      "source": [
        "# Тексты совпадают\n",
        "text_match(\"Привет\", \"Привет\")  "
      ],
      "metadata": {
        "id": "Y_v5venhNDey",
        "colab": {
          "base_uri": "https://localhost:8080/"
        },
        "outputId": "6e776a2e-74a0-40c5-8d9f-17916452d039"
      },
      "execution_count": null,
      "outputs": [
        {
          "output_type": "execute_result",
          "data": {
            "text/plain": [
              "True"
            ]
          },
          "metadata": {},
          "execution_count": 8
        }
      ]
    },
    {
      "cell_type": "code",
      "source": [
        "# Разный регистр (ToDo: lower)\n",
        "text_match(\"ПрИВеТ\", \"Привет\")"
      ],
      "metadata": {
        "id": "mCkXZGN7NCxm",
        "colab": {
          "base_uri": "https://localhost:8080/"
        },
        "outputId": "46ace94d-b566-4d4c-b620-a8fa713383fe"
      },
      "execution_count": null,
      "outputs": [
        {
          "output_type": "execute_result",
          "data": {
            "text/plain": [
              "True"
            ]
          },
          "metadata": {},
          "execution_count": 46
        }
      ]
    },
    {
      "cell_type": "code",
      "source": [
        "# Лишние символы (ToDo: regular expressions)\n",
        "text_match(\"Привет!!!\", \"Привет\")  "
      ],
      "metadata": {
        "id": "XyYl1qxJOWfE",
        "colab": {
          "base_uri": "https://localhost:8080/"
        },
        "outputId": "d525c64b-b50b-4c26-8cb4-dde8042abf16"
      },
      "execution_count": null,
      "outputs": [
        {
          "output_type": "execute_result",
          "data": {
            "text/plain": [
              "True"
            ]
          },
          "metadata": {},
          "execution_count": 47
        }
      ]
    },
    {
      "cell_type": "code",
      "source": [
        "# Лишние слова (ToDo: find)\n",
        "text_match(\"Привет, как дела\", \"Привет\")  "
      ],
      "metadata": {
        "id": "ElasFTAKOW8g",
        "colab": {
          "base_uri": "https://localhost:8080/"
        },
        "outputId": "73c87e68-d713-45af-ca7f-34f19e1352c1"
      },
      "execution_count": null,
      "outputs": [
        {
          "output_type": "execute_result",
          "data": {
            "text/plain": [
              "True"
            ]
          },
          "metadata": {},
          "execution_count": 48
        }
      ]
    },
    {
      "cell_type": "code",
      "source": [
        "\"Привет, как дела\".find(\"Привет\")"
      ],
      "metadata": {
        "colab": {
          "base_uri": "https://localhost:8080/"
        },
        "id": "7HCXgXDfMrhW",
        "outputId": "b74738eb-6778-468f-976f-491dfb134331"
      },
      "execution_count": null,
      "outputs": [
        {
          "output_type": "execute_result",
          "data": {
            "text/plain": [
              "0"
            ]
          },
          "metadata": {},
          "execution_count": 29
        }
      ]
    },
    {
      "cell_type": "code",
      "source": [
        "\"Привет, как дела\".find(\"Привет!\")"
      ],
      "metadata": {
        "colab": {
          "base_uri": "https://localhost:8080/"
        },
        "id": "ydtJ34azM2C2",
        "outputId": "40fd78c7-b368-48f3-ceb9-a90db588d3c0"
      },
      "execution_count": null,
      "outputs": [
        {
          "output_type": "execute_result",
          "data": {
            "text/plain": [
              "-1"
            ]
          },
          "metadata": {},
          "execution_count": 30
        }
      ]
    },
    {
      "cell_type": "code",
      "source": [
        "# Опечатки (ToDo: levenstein)\n",
        "text_match(\"Превет\", \"Привет\")"
      ],
      "metadata": {
        "id": "d9gU6QhvOY17",
        "colab": {
          "base_uri": "https://localhost:8080/"
        },
        "outputId": "91b0c91c-6292-48fa-9577-f1d05230f270"
      },
      "execution_count": null,
      "outputs": [
        {
          "output_type": "execute_result",
          "data": {
            "text/plain": [
              "True"
            ]
          },
          "metadata": {},
          "execution_count": 49
        }
      ]
    },
    {
      "cell_type": "code",
      "source": [
        "nltk.edit_distance('Превет', 'Привет')"
      ],
      "metadata": {
        "colab": {
          "base_uri": "https://localhost:8080/"
        },
        "id": "corS2smfNeul",
        "outputId": "ca0b8861-0cfe-4bbd-b000-a09d6bc1cb16"
      },
      "execution_count": null,
      "outputs": [
        {
          "output_type": "execute_result",
          "data": {
            "text/plain": [
              "1"
            ]
          },
          "metadata": {},
          "execution_count": 39
        }
      ]
    },
    {
      "cell_type": "code",
      "source": [
        "nltk.edit_distance('Привет, как дела', 'Привет')"
      ],
      "metadata": {
        "colab": {
          "base_uri": "https://localhost:8080/"
        },
        "id": "8SogbhfZNset",
        "outputId": "9917ec24-106e-4d3c-9f83-81ef7993867b"
      },
      "execution_count": null,
      "outputs": [
        {
          "output_type": "execute_result",
          "data": {
            "text/plain": [
              "10"
            ]
          },
          "metadata": {},
          "execution_count": 40
        }
      ]
    },
    {
      "cell_type": "code",
      "source": [
        "user_text = 'Превит'\n",
        "example = 'Привет'\n",
        "example_len = len(example)\n",
        "\n",
        "nltk.edit_distance(user_text, example) / example_len"
      ],
      "metadata": {
        "colab": {
          "base_uri": "https://localhost:8080/"
        },
        "id": "6UHgoh6JN1PW",
        "outputId": "01174577-bccd-494c-b631-815694715d77"
      },
      "execution_count": null,
      "outputs": [
        {
          "output_type": "execute_result",
          "data": {
            "text/plain": [
              "0.3333333333333333"
            ]
          },
          "metadata": {},
          "execution_count": 43
        }
      ]
    },
    {
      "cell_type": "markdown",
      "source": [
        "### ВЕРСИЯ 2: Определение намерения (intent) пользователя\n"
      ],
      "metadata": {
        "id": "LTA2IxBGQfp7"
      }
    },
    {
      "cell_type": "code",
      "source": [
        "intents = {\n",
        "    'hello': {\n",
        "        'examples': ['Хелло', \"Привет\", \"Здравствуйте\"],\n",
        "        'responses': ['Добрый день!', \"Как дела?\", \"Как настроение?\"]\n",
        "    },\n",
        "    'weather': {\n",
        "        'examples': ['Какая погода?', 'Что за окном', \"Во что одеваться?\"],\n",
        "        'responses': ['Погода отличная!', \"У природы нет плохой погоды!\"],\n",
        "    },\n",
        "    'undefined': {\n",
        "        'examples': [],\n",
        "        'responses': ['Извините, я еще не знаю таких слов(', \"Давайте поговорим о чем-то другом!\"],\n",
        "    },\n",
        "    'exit': {\n",
        "        'examples': ['Выход', 'Пока', 'До свидания'],\n",
        "        'responses': [\"До свидания!\", \"До скорого!\", \"Пока-пока!\"],\n",
        "    }\n",
        "}\n"
      ],
      "metadata": {
        "id": "KOES4nOIQ5-k"
      },
      "execution_count": null,
      "outputs": []
    },
    {
      "cell_type": "code",
      "source": [
        "def clean_up(text):\n",
        "    # преобразуем слово к нижнему регистру\n",
        "    text = text.lower()\n",
        "    # описываем текстовый шаблон для удаления: \"все, что не является буквой \\w или пробелом \\s\"\n",
        "    re_not_word = r'[^\\w\\s]'\n",
        "    # заменяем в исходном тексте то, что соответствует шаблону, на пустой текст (удаляем)\n",
        "    text = re.sub(re_not_word, '', text)\n",
        "    # возвращаем очищенный текст\n",
        "    return text\n",
        "\n",
        "def text_match(user_text, example):\n",
        "    # допишем функцию так, чтобы все примеры ниже работали\n",
        "    user_text = clean_up(user_text)\n",
        "    example = clean_up(example)\n",
        "    # A.find(B) - возвращает номер буквы, с которой идет текст B внутри текста А\n",
        "    # find возвращает -1 в случае, если ничего не нашла\n",
        "    if example in user_text:\n",
        "        return True\n",
        "\n",
        "    example_len = len(example)\n",
        "    distance = nltk.edit_distance(user_text, example) / example_len\n",
        "\n",
        "    return distance < 0.4"
      ],
      "metadata": {
        "id": "irkYHRvlFD9g"
      },
      "execution_count": null,
      "outputs": []
    },
    {
      "cell_type": "code",
      "source": [
        "# Определить намерение по тексту\n",
        "# \"Чем занят\" => \"how-are-you\"\n",
        "def get_intent(text):\n",
        "  # Проверить все существующие intent'ы\n",
        "    # Какой-нибудь один будет иметь example похожий на text\n",
        "    # Проверить все examples\n",
        "    for intent_name in intents:\n",
        "        for example in intents[intent_name]['examples']:\n",
        "            if text_match(text, example):\n",
        "                return intent_name\n",
        "    return 'undefined'\n",
        "\n",
        "# \"hello\" => \"Йоу\"\n",
        "# Берет случайны response для данного intent'а\n",
        "def get_response(intent):\n",
        "    return random.choice(intents[intent]['responses'])"
      ],
      "metadata": {
        "id": "185AmFXsRCiY"
      },
      "execution_count": null,
      "outputs": []
    },
    {
      "cell_type": "code",
      "source": [
        "get_intent('здравствуй')"
      ],
      "metadata": {
        "colab": {
          "base_uri": "https://localhost:8080/",
          "height": 35
        },
        "id": "xX_nEOyYPkaY",
        "outputId": "abaed5b7-a5cf-4b5f-c03c-38a1d9461e99"
      },
      "execution_count": null,
      "outputs": [
        {
          "output_type": "execute_result",
          "data": {
            "text/plain": [
              "'hello'"
            ],
            "application/vnd.google.colaboratory.intrinsic+json": {
              "type": "string"
            }
          },
          "metadata": {},
          "execution_count": 11
        }
      ]
    },
    {
      "cell_type": "code",
      "source": [
        "def bot(text):\n",
        "    intent = get_intent(text)\n",
        "    answer = get_response(intent)\n",
        "    return answer"
      ],
      "metadata": {
        "id": "3hrayv_aQC7X"
      },
      "execution_count": null,
      "outputs": []
    },
    {
      "cell_type": "code",
      "source": [
        "text = 'привет'\n",
        "while get_intent(text) != 'exit':\n",
        "    text = input('< ')\n",
        "    print('>', bot(text))"
      ],
      "metadata": {
        "colab": {
          "base_uri": "https://localhost:8080/"
        },
        "id": "GDMa3FTsQMex",
        "outputId": "d45d49f2-8715-4b7e-8c2c-229c24bdb58c"
      },
      "execution_count": null,
      "outputs": [
        {
          "output_type": "stream",
          "name": "stdout",
          "text": [
            "< привет\n",
            "> Как дела?\n",
            "< какая погода\n",
            "> У природы нет плохой погоды!\n",
            "< пока\n",
            "> До скорого!\n"
          ]
        }
      ]
    },
    {
      "cell_type": "markdown",
      "source": [
        "# День 2\n"
      ],
      "metadata": {
        "id": "hSSID1qhTRst"
      }
    },
    {
      "cell_type": "markdown",
      "source": [
        "## ВЕРСИЯ 3: Классификация текстов ML-моделью\n"
      ],
      "metadata": {
        "id": "pqqsdYVxRC4w"
      }
    },
    {
      "cell_type": "markdown",
      "source": [
        "### Шаг 1: собираем данные, на которых будет учиться модель"
      ],
      "metadata": {
        "id": "-mAZMC9gCvG5"
      }
    },
    {
      "cell_type": "markdown",
      "source": [
        "Задача: Научить Модель опеределять интент по тексту пользователя\n",
        "\n",
        "**Классификация текстов**\n",
        "\n",
        "\n",
        "Фраза на вход => Модель предсказывает интент фразы\n",
        "\n",
        "Входные данные (Фразы, X)\n",
        "Выходные данные (Интенты, y)\n",
        "\n",
        "Модель обучится на наших примерах и сможет предсказывать интенты по фразе."
      ],
      "metadata": {
        "id": "VLQd37nO3jhd"
      }
    },
    {
      "cell_type": "code",
      "source": [
        "# Скачаем файл с большим количеством примеров для обучения\n",
        "import os\n",
        "import urllib.request\n",
        "\n",
        "url = \"https://drive.google.com/uc?export=view&id=1u4sNekGHaDzgkOVzCOAbyWpFTEMfu95Z\"\n",
        "filename = \"intents_dataset.json\"\n",
        "urllib.request.urlretrieve(url, filename)"
      ],
      "metadata": {
        "id": "IekZ2-zqRHKH",
        "colab": {
          "base_uri": "https://localhost:8080/"
        },
        "outputId": "b4daf471-e8a4-4b1f-94ad-54bc9b667120"
      },
      "execution_count": null,
      "outputs": [
        {
          "output_type": "execute_result",
          "data": {
            "text/plain": [
              "('intents_dataset.json', <http.client.HTTPMessage at 0x7ff2fd147450>)"
            ]
          },
          "metadata": {},
          "execution_count": 17
        }
      ]
    },
    {
      "cell_type": "code",
      "source": [
        "# Считываем файл в словарь\n",
        "import json\n",
        "\n",
        "with open(filename, 'r', encoding='UTF-8') as file:\n",
        "    data = json.load(file)"
      ],
      "metadata": {
        "id": "7GJtHvYexRBu"
      },
      "execution_count": null,
      "outputs": []
    },
    {
      "cell_type": "code",
      "source": [
        "len(data)"
      ],
      "metadata": {
        "colab": {
          "base_uri": "https://localhost:8080/"
        },
        "id": "V0JvS2ckH8YF",
        "outputId": "d4aa6045-b764-438a-a77d-b85270111c50"
      },
      "execution_count": null,
      "outputs": [
        {
          "output_type": "execute_result",
          "data": {
            "text/plain": [
              "439"
            ]
          },
          "metadata": {},
          "execution_count": 20
        }
      ]
    },
    {
      "cell_type": "markdown",
      "source": [
        "Составляем 2 массива:\n",
        "* **X** - входные фразы (то, что модель будет получать от пользователя)\n",
        "* **y** - интенты (то, что модель будет учиться прогнозировать)"
      ],
      "metadata": {
        "id": "x7LOaA445sNF"
      }
    },
    {
      "cell_type": "markdown",
      "source": [
        "<img src='https://drive.google.com/uc?export=view&id=1u3wiw_dSsYbEyGPfu3pj_mMHMnVVINS6' height=450 border='1' alt=''>"
      ],
      "metadata": {
        "id": "ydbBfFW-7Fn1"
      }
    },
    {
      "cell_type": "code",
      "source": [
        "# пробегаем по всему словарю - берем пары ключ-значение и раскладываем по двум спискам\n",
        "# сначала берем пары name (имя интента) из словаря\n",
        "# потом для каждого элемента в examples и responses добавляем в X элемент, \n",
        "# а в y параллельно кладем name - название корневого интента\n",
        "X = []\n",
        "y = []\n",
        "\n",
        "for name in data:\n",
        "    for phrase in data[name]['examples']:\n",
        "        X.append(phrase)\n",
        "        y.append(name)\n",
        "    for phrase in data[name]['responses']:\n",
        "        X.append(phrase)\n",
        "        y.append(name)"
      ],
      "metadata": {
        "id": "Gaf5we3TxzDh"
      },
      "execution_count": null,
      "outputs": []
    },
    {
      "cell_type": "code",
      "source": [
        "len(X)"
      ],
      "metadata": {
        "colab": {
          "base_uri": "https://localhost:8080/"
        },
        "id": "-HrVKnWjI6Op",
        "outputId": "e90ff604-c8b9-4bcc-a89e-c56be0a65c82"
      },
      "execution_count": null,
      "outputs": [
        {
          "output_type": "execute_result",
          "data": {
            "text/plain": [
              "5726"
            ]
          },
          "metadata": {},
          "execution_count": 22
        }
      ]
    },
    {
      "cell_type": "markdown",
      "source": [
        "### Шаг 2: преобразуем слова в числа"
      ],
      "metadata": {
        "id": "yghoYMy4C5b0"
      }
    },
    {
      "cell_type": "markdown",
      "source": [
        "**Векторизация** - процесс кодирования слова в набор чисел\n",
        "\n",
        "[sklearn.CountVectorizer](https://scikit-learn.org/stable/modules/generated/sklearn.feature_extraction.text.CountVectorizer.html)\n",
        "\n",
        "1. На вход подается большой набор фраз\n",
        "2. Векторайзер обучается (каждому слову выделяется отдельная ячейка, куда будет вставляться код - число, сколько раз слово встретилось во фразе)\n",
        "3. Векторайзер готов работать с новыми текстами\n",
        "\n",
        "**Пример**\n",
        "```\n",
        "1. Набор текстов = {\n",
        "  \"мама мыла раму\", \n",
        "  \"Саша мыла раму\",\n",
        "}\n",
        "```\n",
        "\n",
        "```\n",
        "2. Обучение\n",
        "мама -> 1, мыла -> 2, раму -> 3, Саша -> 4\n",
        "  \"мама мыла раму\" = [1, 1, 1, 0]\n",
        "  \"Саша мыла раму\" = [0, 1, 1, 1]\n",
        "```\n",
        "```\n",
        "3. Векторизация\n",
        "\"мама мама мама\" = [3, 0, 0, 0]\n",
        "\"как мама мыла раму\" = [1, 1, 1, 0]\n",
        "\"шла Саша по шоссе\" = [0, 0, 0, 1]\n",
        "```"
      ],
      "metadata": {
        "id": "RrraXH4QC7zX"
      }
    },
    {
      "cell_type": "code",
      "source": [
        "from sklearn.feature_extraction.text import CountVectorizer\n",
        "\n",
        "vectorizer = CountVectorizer()\n",
        "vectorizer.fit([\"мама мыла раму\", \"Саша мыла раму\",]) # Обучаем векторайзер\n",
        "\n",
        "print(vectorizer.get_feature_names_out())\n",
        "print(\"мама мама мама ->\", vectorizer.transform([\"мама мама мама\"]).toarray())\n",
        "print(\"шла Саша по шоссе ->\", vectorizer.transform([\"шла Саша по шоссе\"]).toarray())"
      ],
      "metadata": {
        "id": "PlmCHQSEEPAm",
        "colab": {
          "base_uri": "https://localhost:8080/"
        },
        "outputId": "cf698373-88c6-4bef-8e8b-6d013167dea7"
      },
      "execution_count": null,
      "outputs": [
        {
          "output_type": "stream",
          "name": "stdout",
          "text": [
            "['мама' 'мыла' 'раму' 'саша']\n",
            "мама мама мама -> [[3 0 0 0]]\n",
            "шла Саша по шоссе -> [[0 0 0 1]]\n"
          ]
        }
      ]
    },
    {
      "cell_type": "markdown",
      "source": [
        "Векторизуем наши фразы X"
      ],
      "metadata": {
        "id": "zkjSjoRHGv7G"
      }
    },
    {
      "cell_type": "code",
      "source": [
        "vectorizer = CountVectorizer()\n",
        "vectorizer.fit(X)"
      ],
      "metadata": {
        "id": "xg7odfBDGymT",
        "colab": {
          "base_uri": "https://localhost:8080/"
        },
        "outputId": "87efa240-c605-4316-bb8d-007595a85166"
      },
      "execution_count": null,
      "outputs": [
        {
          "output_type": "execute_result",
          "data": {
            "text/plain": [
              "CountVectorizer()"
            ]
          },
          "metadata": {},
          "execution_count": 25
        }
      ]
    },
    {
      "cell_type": "code",
      "source": [
        "X_vec = vectorizer.transform(X)"
      ],
      "metadata": {
        "id": "3V5ernDPK9ai"
      },
      "execution_count": null,
      "outputs": []
    },
    {
      "cell_type": "code",
      "source": [
        "vectorizer.transform(['какая погода']).toarray()"
      ],
      "metadata": {
        "colab": {
          "base_uri": "https://localhost:8080/"
        },
        "id": "_J6vP9BkLD4Y",
        "outputId": "bbc8d382-4e4d-4fd4-cee4-9de30c8d45d9"
      },
      "execution_count": null,
      "outputs": [
        {
          "output_type": "execute_result",
          "data": {
            "text/plain": [
              "array([[0, 0, 0, ..., 0, 0, 0]])"
            ]
          },
          "metadata": {},
          "execution_count": 29
        }
      ]
    },
    {
      "cell_type": "code",
      "source": [
        "vectorizer.get_feature_names_out()"
      ],
      "metadata": {
        "colab": {
          "base_uri": "https://localhost:8080/"
        },
        "id": "d2OQAKe5LXWP",
        "outputId": "482a271c-b6d4-401f-8e3c-61a4cae0bc8e"
      },
      "execution_count": null,
      "outputs": [
        {
          "output_type": "execute_result",
          "data": {
            "text/plain": [
              "array(['00', '066', '0с', ..., 'ясно', 'ящерица', 'ёлочка'], dtype=object)"
            ]
          },
          "metadata": {},
          "execution_count": 30
        }
      ]
    },
    {
      "cell_type": "markdown",
      "source": [
        "### Шаг 3: обучаем классификатор текстов"
      ],
      "metadata": {
        "id": "hQmd5e9_J12n"
      }
    },
    {
      "cell_type": "code",
      "source": [
        "from sklearn.neural_network import MLPClassifier # Импортируем\n",
        "# Создаем модель\n",
        "model = MLPClassifier()\n",
        "# Обучаем модель\n",
        "model.fit(X_vec, y)"
      ],
      "metadata": {
        "id": "Ve5tV5Pdd7Qn",
        "colab": {
          "base_uri": "https://localhost:8080/"
        },
        "outputId": "011e399e-95e8-480e-f39c-b9f8de883f76"
      },
      "execution_count": null,
      "outputs": [
        {
          "output_type": "stream",
          "name": "stderr",
          "text": [
            "/usr/local/lib/python3.7/dist-packages/sklearn/neural_network/_multilayer_perceptron.py:696: ConvergenceWarning: Stochastic Optimizer: Maximum iterations (200) reached and the optimization hasn't converged yet.\n",
            "  ConvergenceWarning,\n"
          ]
        },
        {
          "output_type": "execute_result",
          "data": {
            "text/plain": [
              "MLPClassifier()"
            ]
          },
          "metadata": {},
          "execution_count": 31
        }
      ]
    },
    {
      "cell_type": "code",
      "source": [
        "test_vec = vectorizer.transform(['Как дела?'])\n",
        "model.predict(test_vec)"
      ],
      "metadata": {
        "colab": {
          "base_uri": "https://localhost:8080/"
        },
        "id": "_0triKeuQDYk",
        "outputId": "ae00c21d-a214-4559-efea-e29058dce9f0"
      },
      "execution_count": null,
      "outputs": [
        {
          "output_type": "execute_result",
          "data": {
            "text/plain": [
              "array(['howareyou'], dtype='<U29')"
            ]
          },
          "metadata": {},
          "execution_count": 32
        }
      ]
    },
    {
      "cell_type": "code",
      "source": [
        "model.predict(test_vec)[0]"
      ],
      "metadata": {
        "colab": {
          "base_uri": "https://localhost:8080/",
          "height": 35
        },
        "id": "V2I7xL7DQf7Y",
        "outputId": "d9ba23f1-475a-4987-df3e-04102e186fc2"
      },
      "execution_count": null,
      "outputs": [
        {
          "output_type": "execute_result",
          "data": {
            "text/plain": [
              "'howareyou'"
            ],
            "application/vnd.google.colaboratory.intrinsic+json": {
              "type": "string"
            }
          },
          "metadata": {},
          "execution_count": 33
        }
      ]
    },
    {
      "cell_type": "markdown",
      "source": [
        "### Шаг 4: оцениваем качество"
      ],
      "metadata": {
        "id": "B2Y4Ov61J5rg"
      }
    },
    {
      "cell_type": "markdown",
      "source": [
        "**Accuracy** $= \\frac{n\\ угаданных}{N\\ всего}$ — доля правильных ответов (больше - лучше)\n",
        "\n",
        "_Вопрос на внимательность: какое максимальное и минимальное значение метрики может быть, исходя из формулы выше?_"
      ],
      "metadata": {
        "id": "rO1zwbF3ePcg"
      }
    },
    {
      "cell_type": "code",
      "source": [
        "model.score(X_vec, y)  # Качество на тренировочной выборке = accuracy / больше = лучше"
      ],
      "metadata": {
        "id": "9UurWB9MJy0T",
        "colab": {
          "base_uri": "https://localhost:8080/"
        },
        "outputId": "133e1fdb-a315-426a-cd16-b88d8a6e29ae"
      },
      "execution_count": null,
      "outputs": [
        {
          "output_type": "execute_result",
          "data": {
            "text/plain": [
              "0.8641285365001746"
            ]
          },
          "metadata": {},
          "execution_count": 34
        }
      ]
    },
    {
      "cell_type": "markdown",
      "source": [
        "### Шаг 5: пишем функцию для получения интента с помощью ML"
      ],
      "metadata": {
        "id": "V2qQ8d8FrxQt"
      }
    },
    {
      "cell_type": "code",
      "source": [
        "def get_intent(text):\n",
        "    text_vec = vectorizer.transform([text])\n",
        "    intent = model.predict(text_vec)[0]\n",
        "    return intent"
      ],
      "metadata": {
        "id": "9RLxxqpSr6Kv"
      },
      "execution_count": null,
      "outputs": []
    },
    {
      "cell_type": "code",
      "source": [
        "get_intent(\"привет, как дела?\")"
      ],
      "metadata": {
        "id": "xHt2Npg-sXhV",
        "colab": {
          "base_uri": "https://localhost:8080/",
          "height": 35
        },
        "outputId": "9c61e59e-2cf3-45bd-8b2c-f2ea7395d248"
      },
      "execution_count": null,
      "outputs": [
        {
          "output_type": "execute_result",
          "data": {
            "text/plain": [
              "'hello'"
            ],
            "application/vnd.google.colaboratory.intrinsic+json": {
              "type": "string"
            }
          },
          "metadata": {},
          "execution_count": 38
        }
      ]
    },
    {
      "cell_type": "code",
      "source": [
        "get_intent(\"давай анекдот\")"
      ],
      "metadata": {
        "id": "8_kIzeDUsnuk",
        "colab": {
          "base_uri": "https://localhost:8080/",
          "height": 35
        },
        "outputId": "40048190-6763-49f4-81db-0804813f9d27"
      },
      "execution_count": null,
      "outputs": [
        {
          "output_type": "execute_result",
          "data": {
            "text/plain": [
              "'talks_dogs'"
            ],
            "application/vnd.google.colaboratory.intrinsic+json": {
              "type": "string"
            }
          },
          "metadata": {},
          "execution_count": 39
        }
      ]
    },
    {
      "cell_type": "code",
      "source": [
        "data['talks_dogs']"
      ],
      "metadata": {
        "colab": {
          "base_uri": "https://localhost:8080/"
        },
        "id": "EP6Ll68wSLRt",
        "outputId": "91768f21-bf83-4a99-b4d4-2d521994ba63"
      },
      "execution_count": null,
      "outputs": [
        {
          "output_type": "execute_result",
          "data": {
            "text/plain": [
              "{'examples': ['ну',\n",
              "  'собака',\n",
              "  'расскажи',\n",
              "  'анекдот',\n",
              "  'животное',\n",
              "  'давай',\n",
              "  'песик',\n",
              "  'еще',\n",
              "  'шутка'],\n",
              " 'responses': ['Объявление: Пропала собака!! Очень умная!! /nШарик, если ты читаешь это сообщение, отпишись мне на e—mail, дети переживают!!',\n",
              "  'Я опоздал на работу, потому что собака съела моё время.',\n",
              "  '— Это неописуемо, — сказала собака, глядя на баобаб.',\n",
              "  '— Что мужчина делает стоя, женщина — сидя, а собака поднимая одну лапу? \\n— Здороваются!',\n",
              "  'Завёл собаку — заглохла.']}"
            ]
          },
          "metadata": {},
          "execution_count": 43
        }
      ]
    },
    {
      "cell_type": "code",
      "source": [
        "data['exit'] = intents['exit']"
      ],
      "metadata": {
        "id": "OyAbYaLfSwmu"
      },
      "execution_count": null,
      "outputs": []
    },
    {
      "cell_type": "code",
      "source": [
        "data['exit']"
      ],
      "metadata": {
        "colab": {
          "base_uri": "https://localhost:8080/"
        },
        "id": "xbz8XD9VS4Nh",
        "outputId": "22c04a25-685d-4aa2-9ca7-1f93107ccad5"
      },
      "execution_count": null,
      "outputs": [
        {
          "output_type": "execute_result",
          "data": {
            "text/plain": [
              "{'examples': ['Выход', 'Пока', 'До свидания'],\n",
              " 'responses': ['До свидания!', 'До скорого!', 'Пока-пока!']}"
            ]
          },
          "metadata": {},
          "execution_count": 46
        }
      ]
    },
    {
      "cell_type": "code",
      "source": [
        "def get_response(intent):\n",
        "    return random.choice(data[intent]['responses'])"
      ],
      "metadata": {
        "id": "oGSp4Ssx_mMe"
      },
      "execution_count": null,
      "outputs": []
    },
    {
      "cell_type": "code",
      "source": [
        "def bot(text):\n",
        "    intent = get_intent(text)\n",
        "    answer = get_response(intent)\n",
        "    return answer"
      ],
      "metadata": {
        "id": "mHZ89U82_WNz"
      },
      "execution_count": null,
      "outputs": []
    },
    {
      "cell_type": "code",
      "source": [
        "get_intent('выход')"
      ],
      "metadata": {
        "colab": {
          "base_uri": "https://localhost:8080/",
          "height": 35
        },
        "id": "dVMMhRH_TQNK",
        "outputId": "02b6e21b-e116-4eff-cc3b-c9614fd44c61"
      },
      "execution_count": null,
      "outputs": [
        {
          "output_type": "execute_result",
          "data": {
            "text/plain": [
              "'bye'"
            ],
            "application/vnd.google.colaboratory.intrinsic+json": {
              "type": "string"
            }
          },
          "metadata": {},
          "execution_count": 48
        }
      ]
    },
    {
      "cell_type": "code",
      "source": [
        "text = \"\"\n",
        "while get_intent(text) != 'bye':\n",
        "    text = input('< ')\n",
        "    print('>', bot(text))"
      ],
      "metadata": {
        "id": "7-cOH_q8_0z3",
        "colab": {
          "base_uri": "https://localhost:8080/"
        },
        "outputId": "89c28798-ef5d-4a8d-a003-56e9a2facb03"
      },
      "execution_count": null,
      "outputs": [
        {
          "output_type": "stream",
          "name": "stdout",
          "text": [
            "< Как дела?\n",
            "> Отлично!\n",
            "< Чем занимаешься?\n",
            "> Пытаюсь не сойти с ума, от того что ты тут, хех\n",
            "< пока\n",
            "> Have a good day\n"
          ]
        }
      ]
    },
    {
      "cell_type": "markdown",
      "source": [
        "# День 3"
      ],
      "metadata": {
        "id": "MMr2mDwFTVeK"
      }
    },
    {
      "cell_type": "markdown",
      "source": [
        "Бот в Телеграм\n",
        "\n",
        "Библиотека [python-telegram-bot](https://python-telegram-bot.org/)\n",
        "\n",
        "Токен получаем у телеграм-бота @BotFather"
      ],
      "metadata": {
        "id": "cDuASTUtss8Y"
      }
    },
    {
      "cell_type": "markdown",
      "source": [],
      "metadata": {
        "id": "HH-W0-XYWpb4"
      }
    },
    {
      "cell_type": "code",
      "source": [
        "!pip install python-telegram-bot --pre"
      ],
      "metadata": {
        "id": "4eCC32rImnd9",
        "colab": {
          "base_uri": "https://localhost:8080/"
        },
        "outputId": "607e577a-2e7f-4929-be6b-80b84ef60e37"
      },
      "execution_count": null,
      "outputs": [
        {
          "output_type": "stream",
          "name": "stdout",
          "text": [
            "Looking in indexes: https://pypi.org/simple, https://us-python.pkg.dev/colab-wheels/public/simple/\n",
            "Requirement already satisfied: python-telegram-bot in /usr/local/lib/python3.7/dist-packages (20.0a4)\n",
            "Requirement already satisfied: httpx~=0.23.0 in /usr/local/lib/python3.7/dist-packages (from python-telegram-bot) (0.23.0)\n",
            "Requirement already satisfied: cachetools~=5.2.0 in /usr/local/lib/python3.7/dist-packages (from python-telegram-bot) (5.2.0)\n",
            "Requirement already satisfied: tornado~=6.2 in /usr/local/lib/python3.7/dist-packages (from python-telegram-bot) (6.2)\n",
            "Requirement already satisfied: APScheduler~=3.9.1 in /usr/local/lib/python3.7/dist-packages (from python-telegram-bot) (3.9.1)\n",
            "Requirement already satisfied: pytz>=2018.6 in /usr/local/lib/python3.7/dist-packages (from python-telegram-bot) (2022.2.1)\n",
            "Requirement already satisfied: setuptools>=0.7 in /usr/local/lib/python3.7/dist-packages (from APScheduler~=3.9.1->python-telegram-bot) (57.4.0)\n",
            "Requirement already satisfied: tzlocal!=3.*,>=2.0 in /usr/local/lib/python3.7/dist-packages (from APScheduler~=3.9.1->python-telegram-bot) (4.2)\n",
            "Requirement already satisfied: six>=1.4.0 in /usr/local/lib/python3.7/dist-packages (from APScheduler~=3.9.1->python-telegram-bot) (1.15.0)\n",
            "Requirement already satisfied: httpcore<0.16.0,>=0.15.0 in /usr/local/lib/python3.7/dist-packages (from httpx~=0.23.0->python-telegram-bot) (0.15.0)\n",
            "Requirement already satisfied: certifi in /usr/local/lib/python3.7/dist-packages (from httpx~=0.23.0->python-telegram-bot) (2022.6.15)\n",
            "Requirement already satisfied: sniffio in /usr/local/lib/python3.7/dist-packages (from httpx~=0.23.0->python-telegram-bot) (1.3.0)\n",
            "Requirement already satisfied: rfc3986[idna2008]<2,>=1.3 in /usr/local/lib/python3.7/dist-packages (from httpx~=0.23.0->python-telegram-bot) (1.5.0)\n",
            "Requirement already satisfied: anyio==3.* in /usr/local/lib/python3.7/dist-packages (from httpcore<0.16.0,>=0.15.0->httpx~=0.23.0->python-telegram-bot) (3.6.1)\n",
            "Requirement already satisfied: h11<0.13,>=0.11 in /usr/local/lib/python3.7/dist-packages (from httpcore<0.16.0,>=0.15.0->httpx~=0.23.0->python-telegram-bot) (0.12.0)\n",
            "Requirement already satisfied: typing-extensions in /usr/local/lib/python3.7/dist-packages (from anyio==3.*->httpcore<0.16.0,>=0.15.0->httpx~=0.23.0->python-telegram-bot) (4.1.1)\n",
            "Requirement already satisfied: idna>=2.8 in /usr/local/lib/python3.7/dist-packages (from anyio==3.*->httpcore<0.16.0,>=0.15.0->httpx~=0.23.0->python-telegram-bot) (2.10)\n",
            "Requirement already satisfied: backports.zoneinfo in /usr/local/lib/python3.7/dist-packages (from tzlocal!=3.*,>=2.0->APScheduler~=3.9.1->python-telegram-bot) (0.2.1)\n",
            "Requirement already satisfied: pytz-deprecation-shim in /usr/local/lib/python3.7/dist-packages (from tzlocal!=3.*,>=2.0->APScheduler~=3.9.1->python-telegram-bot) (0.1.0.post0)\n",
            "Requirement already satisfied: tzdata in /usr/local/lib/python3.7/dist-packages (from pytz-deprecation-shim->tzlocal!=3.*,>=2.0->APScheduler~=3.9.1->python-telegram-bot) (2022.2)\n"
          ]
        }
      ]
    },
    {
      "cell_type": "code",
      "source": [
        "import os\n",
        "import random\n",
        "import json\n",
        "import urllib.request\n",
        "from sklearn.feature_extraction.text import CountVectorizer\n",
        "from sklearn.neural_network import MLPClassifier\n",
        "\n",
        "\n",
        "# Загружаем файл с диалогами для обучения модели\n",
        "url = \"https://drive.google.com/uc?export=view&id=1u4sNekGHaDzgkOVzCOAbyWpFTEMfu95Z\"\n",
        "filename = \"intents_dataset.json\"\n",
        "urllib.request.urlretrieve(url, filename)\n",
        "\n",
        "# Считываем файл в словарь\n",
        "with open(filename, 'r', encoding='UTF-8') as file:\n",
        "    data = json.load(file)\n",
        "\n",
        "# Создаем массивы фраз и интентов для обучения\n",
        "X = []\n",
        "y = []\n",
        "\n",
        "for name in data:\n",
        "    for phrase in data[name]['examples']:\n",
        "        X.append(phrase)\n",
        "        y.append(name)\n",
        "    for phrase in data[name]['responses']:\n",
        "        X.append(phrase)\n",
        "        y.append(name)\n",
        "\n",
        "# Векторизуем наши фразы X\n",
        "vectorizer = CountVectorizer()\n",
        "vectorizer.fit(X)\n",
        "X_vec = vectorizer.transform(X)"
      ],
      "metadata": {
        "id": "71kD3U4VVD4G"
      },
      "execution_count": null,
      "outputs": []
    },
    {
      "cell_type": "code",
      "source": [
        "# ВАРИАНТ 1: Обучаем модель заново\n",
        "\n",
        "model = MLPClassifier()\n",
        "model.fit(X_vec, y)"
      ],
      "metadata": {
        "id": "xd3CSfbY9o3M",
        "colab": {
          "base_uri": "https://localhost:8080/"
        },
        "outputId": "e6a5b16b-dba5-4b98-d0de-12a7a12c1f96"
      },
      "execution_count": null,
      "outputs": [
        {
          "output_type": "stream",
          "name": "stderr",
          "text": [
            "/usr/local/lib/python3.7/dist-packages/sklearn/neural_network/_multilayer_perceptron.py:696: ConvergenceWarning: Stochastic Optimizer: Maximum iterations (200) reached and the optimization hasn't converged yet.\n",
            "  ConvergenceWarning,\n"
          ]
        }
      ]
    },
    {
      "cell_type": "code",
      "source": [
        "# ВАРИАНТ 2: Загружаем с диска обученную модель\n",
        "\n",
        "url = \"https://drive.google.com/uc?export=view&id=1G-35bA2TCf7lgeQ6bLlOdBZgIaBf40D-\"\n",
        "filename = \"model.pkl\"\n",
        "urllib.request.urlretrieve(url, filename)"
      ],
      "metadata": {
        "colab": {
          "base_uri": "https://localhost:8080/"
        },
        "id": "hyhbAWw1UpPy",
        "outputId": "47256e8a-9a81-4398-842f-9eb989ad892f"
      },
      "execution_count": null,
      "outputs": [
        {
          "output_type": "execute_result",
          "data": {
            "text/plain": [
              "('model.pkl', <http.client.HTTPMessage at 0x7f4a15b5c750>)"
            ]
          },
          "metadata": {},
          "execution_count": 6
        }
      ]
    },
    {
      "cell_type": "code",
      "source": [
        "import pickle\n",
        "\n",
        "with open('model.pkl', 'br') as f:\n",
        "    model = pickle.load(f)"
      ],
      "metadata": {
        "id": "IzpnnC5RVWBm"
      },
      "execution_count": null,
      "outputs": []
    },
    {
      "cell_type": "code",
      "source": [
        "model"
      ],
      "metadata": {
        "colab": {
          "base_uri": "https://localhost:8080/"
        },
        "id": "snBE-M73Vhu2",
        "outputId": "ec57e039-8ff9-4fbb-e281-24ee929fbfae"
      },
      "execution_count": null,
      "outputs": [
        {
          "output_type": "execute_result",
          "data": {
            "text/plain": [
              "MLPClassifier()"
            ]
          },
          "metadata": {},
          "execution_count": 10
        }
      ]
    },
    {
      "cell_type": "code",
      "source": [
        "def get_intent(text):\n",
        "    # сначала преобразуем текст в числа\n",
        "    text_vec = vectorizer.transform([text])\n",
        "    # берем элемент номер 0 - для того, чтобы избавиться от формата \"список\", который необходим для векторизации и машинного обучения\n",
        "    return model.predict(text_vec)[0] \n",
        "\n",
        "def get_response(intent):\n",
        "    return random.choice(data[intent]['responses'])\n",
        "\n",
        "def bot(text):\n",
        "    intent = get_intent(text)\n",
        "    answer = get_response(intent)\n",
        "    return answer"
      ],
      "metadata": {
        "id": "n2H_WNQIUkxm"
      },
      "execution_count": null,
      "outputs": []
    },
    {
      "cell_type": "code",
      "source": [
        "!pip install nest-asyncio"
      ],
      "metadata": {
        "colab": {
          "base_uri": "https://localhost:8080/"
        },
        "id": "yzExNLZpQZbm",
        "outputId": "765ee896-98e2-4289-ceab-a4999115576e"
      },
      "execution_count": null,
      "outputs": [
        {
          "output_type": "stream",
          "name": "stdout",
          "text": [
            "Looking in indexes: https://pypi.org/simple, https://us-python.pkg.dev/colab-wheels/public/simple/\n",
            "Collecting nest-asyncio\n",
            "  Downloading nest_asyncio-1.5.5-py3-none-any.whl (5.2 kB)\n",
            "Installing collected packages: nest-asyncio\n",
            "Successfully installed nest-asyncio-1.5.5\n"
          ]
        }
      ]
    },
    {
      "cell_type": "code",
      "source": [
        "import nest_asyncio\n",
        "nest_asyncio.apply()"
      ],
      "metadata": {
        "id": "CbSKz1-yvtSc"
      },
      "execution_count": null,
      "outputs": []
    },
    {
      "cell_type": "code",
      "source": [
        "try:\n",
        "    with open('secret_file.txt', 'r') as f:\n",
        "        TOKEN = f.read()\n",
        "except:\n",
        "    print('Это код для загрузки файла с секретным токеном спикера.\\nА для работы с вашим ботом вставьте, пожалуйста, свой токен в ячейку ниже ⬇️')"
      ],
      "metadata": {
        "id": "1oAM0V8gGpFx"
      },
      "execution_count": null,
      "outputs": []
    },
    {
      "cell_type": "code",
      "source": [
        "TOKEN = '5484295726:AAGlAYZrI5SRz7JXaav4BKEpoDoixUXUOB8'"
      ],
      "metadata": {
        "id": "dLEd-e0OtnL9"
      },
      "execution_count": null,
      "outputs": []
    },
    {
      "cell_type": "code",
      "source": [
        "#  Update - информация, полученная с сервера (новые сообщения, новые контакты)\n",
        "#  С сервера регулярно регулярно приходят Update'ы с новой информацией\n",
        "from telegram import Update \n",
        "from telegram.ext import ApplicationBuilder #  Инструмент чтобы создавать и настраивать приложение (телеграм бот)\n",
        "from telegram.ext import MessageHandler #  Handler (обработчик) - создать реакцию (функцию) на действие\n",
        "\n",
        "from  telegram.ext import filters"
      ],
      "metadata": {
        "id": "Z7EK9UGixz4f"
      },
      "execution_count": null,
      "outputs": []
    },
    {
      "cell_type": "code",
      "source": [
        "# Функция для MessageHandler'а, вызывать ее при каждом сообщении боту\n",
        "async def reply(update: Update, context) -> None:\n",
        "    user_text = update.message.text\n",
        "    reply = bot(user_text)\n",
        "    print('<', user_text)\n",
        "    print('>', reply)\n",
        "\n",
        "    await update.message.reply_text(reply)\n",
        "\n",
        "# Создаем объект приложения - связываем его с токеном\n",
        "app = ApplicationBuilder().token(TOKEN).build()\n",
        "\n",
        "# Создаем обработчик текстовых сообщений\n",
        "handler = MessageHandler(filters.Text(), reply)\n",
        "\n",
        "# Добавляем обработчик в приложение\n",
        "app.add_handler(handler)\n",
        "\n",
        "# Запускаем приложение: бот крутится, пока крутится колесико выполнения слева ячейки)\n",
        "app.run_polling()"
      ],
      "metadata": {
        "id": "sKaH2jQnx59S",
        "colab": {
          "base_uri": "https://localhost:8080/"
        },
        "outputId": "6542a9ad-e158-4d4f-c2b5-a64c414233f8"
      },
      "execution_count": null,
      "outputs": [
        {
          "output_type": "stream",
          "name": "stdout",
          "text": [
            "< Привет\n",
            "> Салют\n",
            "< Как дела?\n",
            "> Здравствуй\n",
            "< Как настроение?\n",
            "> Ну такое\n",
            "< Какая погода?\n",
            "> It`s pouring down\n"
          ]
        }
      ]
    },
    {
      "cell_type": "code",
      "source": [],
      "metadata": {
        "id": "G7bbQ4D4twvX"
      },
      "execution_count": null,
      "outputs": []
    }
  ]
}